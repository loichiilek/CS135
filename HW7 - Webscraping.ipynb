{
 "cells": [
  {
   "cell_type": "markdown",
   "metadata": {},
   "source": [
    "# Data-X Spring 2019: Homework 7\n",
    "\n",
    "### Webscraping\n",
    "\n",
    "\n",
    "\n",
    "In this homework, you will do some exercises with web-scraping."
   ]
  },
  {
   "cell_type": "markdown",
   "metadata": {},
   "source": [
    "## Name: Loi Chii Lek\n",
    "\n",
    "## SID: 3034453674\n",
    "\n"
   ]
  },
  {
   "cell_type": "markdown",
   "metadata": {},
   "source": [
    "### Fun with Webscraping & Text manipulation\n"
   ]
  },
  {
   "cell_type": "markdown",
   "metadata": {
    "collapsed": true
   },
   "source": [
    "## 1. Statistics in Presidential Debates\n",
    "\n",
    "Your first task is to scrape Presidential Debates from the Commission of Presidential Debates website: https://www.debates.org/voter-education/debate-transcripts/\n",
    "\n",
    "To do this, you are not allowed to manually look up the URLs that you need, instead you have to scrape them. The root url to be scraped is the one listed above, namely: https://www.debates.org/voter-education/debate-transcripts/\n",
    "\n",
    "\n",
    "1. By using `requests` and `BeautifulSoup` find all the links / URLs on the website that links to transcriptions of **First Presidential Debates** from the years [1988, 1984, 1976, 1960]. In total you should find 4 links / URLs that fulfill this criteria. **Print the urls.**\n",
    "\n",
    "2. When you have a list of the URLs your task is to create a Data Frame with some statistics (see example of output below):\n",
    "    1. Scrape the title of each link and use that as the column name in your Data Frame. \n",
    "    2. Count how long the transcript of the debate is (as in the number of characters in transcription string). Feel free to include `\\` characters in your count, but remove any breakline characters, i.e. `\\n`. You will get credit if your count is +/- 10% from our result.\n",
    "    3. Count how many times the word **war** was used in the different debates. Note that you have to convert the text in a smart way (to not count the word **warranty** for example, but counting **war.**, **war!**, **war,** or **War** etc.\n",
    "    4. Also scrape the most common used word in the debate, and write how many times it was used. Note that you have to use the same strategy as in C in order to do this.\n",
    "    \n",
    "    **Print your final output result.**\n",
    "    \n",
    "**Tips:**\n",
    "\n",
    "___\n",
    "\n",
    "In order to solve the questions above, it can be useful to work with Regular Expressions and explore methods on strings like `.strip(), .replace(), .find(), .count(), .lower()` etc. Both are very powerful tools to do string processing in Python. To count common words for example I used a `Counter` object and a Regular expression pattern for only words, see example:\n",
    "\n",
    "```python\n",
    "    from collections import Counter\n",
    "    import re\n",
    "\n",
    "    counts = Counter(re.findall(r\"[\\w']+\", text.lower()))\n",
    "```\n",
    "\n",
    "Read more about Regular Expressions here: https://docs.python.org/3/howto/regex.html\n",
    "    \n",
    "    \n",
    "**Example output of all of the answers to Question 1.2:**\n",
    "\n",
    "\n",
    "![pres_stats_2](https://github.com/ikhlaqsidhu/data-x/raw/master/x-archive/misc/hw2_imgs_spring2018/presidents_stats_2.jpg)\n",
    "\n",
    "\n",
    "\n",
    "----\n",
    "\n",
    ".\n",
    "\n",
    "\n"
   ]
  },
  {
   "cell_type": "code",
   "execution_count": 23,
   "metadata": {},
   "outputs": [],
   "source": [
    "import bs4 as bs\n",
    "import requests\n",
    "import re\n",
    "\n",
    "source = requests.get(\"https://www.debates.org/voter-education/debate-transcripts/\")\n",
    "soup = bs.BeautifulSoup(source.content, features='html.parser', parse_only=bs.SoupStrainer('a'))\n"
   ]
  },
  {
   "cell_type": "code",
   "execution_count": 74,
   "metadata": {
    "scrolled": true
   },
   "outputs": [
    {
     "name": "stdout",
     "output_type": "stream",
     "text": [
      "September 25, 1988: The First Bush-Dukakis Presidential Debate\n",
      "/voter-education/debate-transcripts/september-25-1988-debate-transcript/\n",
      "\n",
      "October 7, 1984: The First Reagan-Mondale Presidential Debate\n",
      "/voter-education/debate-transcripts/october-7-1984-debate-transcript/\n",
      "\n",
      "September 23, 1976: The First Carter-Ford Presidential Debate\n",
      "/voter-education/debate-transcripts/september-23-1976-debate-transcript/\n",
      "\n",
      "September 26, 1960: The First Kennedy-Nixon Presidential Debate\n",
      "/voter-education/debate-transcripts/september-26-1960-debate-transcript/\n",
      "\n"
     ]
    }
   ],
   "source": [
    "links = {}\n",
    "\n",
    "for link in soup:\n",
    "    if 'First' in link.contents[0]:\n",
    "        if '1988' in link.contents[0] or '1984' in link.contents[0] or '1976' in link.contents[0] or '1960' in link.contents[0]:\n",
    "            print(link.contents[0])\n",
    "            print(link['href'])\n",
    "            print()\n",
    "            links[link.contents[0]] = link['href']"
   ]
  },
  {
   "cell_type": "code",
   "execution_count": 154,
   "metadata": {},
   "outputs": [],
   "source": [
    "link_text = {}\n",
    "\n",
    "for key in links:\n",
    "    link_source = requests.get(\"https://www.debates.org\" + links[key])\n",
    "    link_soup = bs.BeautifulSoup(link_source.content, features='html.parser')\n",
    "    link_text[key] = link_soup.find(id='content-sm')\n",
    "\n"
   ]
  },
  {
   "cell_type": "code",
   "execution_count": 155,
   "metadata": {},
   "outputs": [],
   "source": [
    "link_words = {}\n",
    "\n",
    "for key in link_text:\n",
    "    str_append = \"\"\n",
    "    for p in link_text[key].find_all('p'):\n",
    "        str_append += \" \" + p.get_text().rstrip()\n",
    "    link_words[key] = str_append\n"
   ]
  },
  {
   "cell_type": "code",
   "execution_count": 193,
   "metadata": {},
   "outputs": [
    {
     "data": {
      "text/html": [
       "<div>\n",
       "<style scoped>\n",
       "    .dataframe tbody tr th:only-of-type {\n",
       "        vertical-align: middle;\n",
       "    }\n",
       "\n",
       "    .dataframe tbody tr th {\n",
       "        vertical-align: top;\n",
       "    }\n",
       "\n",
       "    .dataframe thead th {\n",
       "        text-align: right;\n",
       "    }\n",
       "</style>\n",
       "<table border=\"1\" class=\"dataframe\">\n",
       "  <thead>\n",
       "    <tr style=\"text-align: right;\">\n",
       "      <th></th>\n",
       "      <th>September 25, 1988: The First Bush-Dukakis Presidential Debate</th>\n",
       "      <th>October 7, 1984: The First Reagan-Mondale Presidential Debate</th>\n",
       "      <th>September 23, 1976: The First Carter-Ford Presidential Debate</th>\n",
       "      <th>September 26, 1960: The First Kennedy-Nixon Presidential Debate</th>\n",
       "    </tr>\n",
       "  </thead>\n",
       "  <tbody>\n",
       "    <tr>\n",
       "      <th>Debate char length</th>\n",
       "      <td>87691</td>\n",
       "      <td>86782</td>\n",
       "      <td>80796</td>\n",
       "      <td>60974</td>\n",
       "    </tr>\n",
       "    <tr>\n",
       "      <th>war_count</th>\n",
       "      <td>7</td>\n",
       "      <td>2</td>\n",
       "      <td>7</td>\n",
       "      <td>3</td>\n",
       "    </tr>\n",
       "    <tr>\n",
       "      <th>most_common_w</th>\n",
       "      <td>the</td>\n",
       "      <td>the</td>\n",
       "      <td>the</td>\n",
       "      <td>the</td>\n",
       "    </tr>\n",
       "    <tr>\n",
       "      <th>most_common_w_count</th>\n",
       "      <td>799</td>\n",
       "      <td>867</td>\n",
       "      <td>856</td>\n",
       "      <td>779</td>\n",
       "    </tr>\n",
       "  </tbody>\n",
       "</table>\n",
       "</div>"
      ],
      "text/plain": [
       "                    September 25, 1988: The First Bush-Dukakis Presidential Debate  \\\n",
       "Debate char length                                               87691               \n",
       "war_count                                                            7               \n",
       "most_common_w                                                      the               \n",
       "most_common_w_count                                                799               \n",
       "\n",
       "                    October 7, 1984: The First Reagan-Mondale Presidential Debate  \\\n",
       "Debate char length                                               86782              \n",
       "war_count                                                            2              \n",
       "most_common_w                                                      the              \n",
       "most_common_w_count                                                867              \n",
       "\n",
       "                    September 23, 1976: The First Carter-Ford Presidential Debate  \\\n",
       "Debate char length                                               80796              \n",
       "war_count                                                            7              \n",
       "most_common_w                                                      the              \n",
       "most_common_w_count                                                856              \n",
       "\n",
       "                    September 26, 1960: The First Kennedy-Nixon Presidential Debate  \n",
       "Debate char length                                               60974               \n",
       "war_count                                                            3               \n",
       "most_common_w                                                      the               \n",
       "most_common_w_count                                                779               "
      ]
     },
     "execution_count": 193,
     "metadata": {},
     "output_type": "execute_result"
    }
   ],
   "source": [
    "import pandas as pd\n",
    "import string\n",
    "from collections import Counter\n",
    "\n",
    "df = pd.DataFrame()\n",
    "\n",
    "char_length = []\n",
    "war_count = []\n",
    "most_common_word = []\n",
    "most_common_word_count = []\n",
    "\n",
    "for key in link_words:\n",
    "    df[key] = key\n",
    "    char_length.append(len(link_words[key]))\n",
    "    \n",
    "    no_punctuation_string = link_words[key].translate(str.maketrans('', '', string.punctuation)).lower()\n",
    "    count = sum(1 for _ in re.finditer(r'\\b%s\\b' % re.escape(\"war\"), no_punctuation_string))\n",
    "    war_count.append(count)\n",
    "    \n",
    "    wc = Counter(no_punctuation_string.split())\n",
    "    most_common_word.append(wc.most_common(1)[0][0])\n",
    "    most_common_word_count.append(wc.most_common(1)[0][1])\n",
    "\n",
    "df.loc['Debate char length'] = char_length\n",
    "df.loc['war_count'] = war_count\n",
    "df.loc['most_common_w'] = most_common_word\n",
    "df.loc['most_common_w_count'] = most_common_word_count\n",
    "\n",
    "df.head()"
   ]
  },
  {
   "cell_type": "markdown",
   "metadata": {},
   "source": [
    "    \n",
    "## 2. Download and read in specific line from many data sets\n",
    "\n",
    "Scrape the first 27 data sets from this URL http://people.sc.fsu.edu/~jburkardt/datasets/regression/ (i.e.`x01.txt` - `x27.txt`). Then, save the 5th line in each data set, this should be the name of the data set author (get rid of the `#` symbol, the white spaces and the comma at the end). \n",
    "\n",
    "Count how many times (with a Python function) each author is the reference for one of the 27 data sets. Showcase your results, sorted, with the most common author name first and how many times he appeared in data sets. Use a Pandas DataFrame to show your results, see example. **Print your final output result.**\n",
    "\n",
    "**Example output of the answer for Question 2:**\n",
    "\n",
    "![author_stats](https://github.com/ikhlaqsidhu/data-x/raw/master/x-archive/misc/hw2_imgs_spring2018/data_authors.png)\n"
   ]
  },
  {
   "cell_type": "code",
   "execution_count": 249,
   "metadata": {},
   "outputs": [],
   "source": [
    "import bs4 as bs\n",
    "import requests\n",
    "import re\n",
    "\n",
    "source = requests.get(\"http://people.sc.fsu.edu/~jburkardt/datasets/regression/\")\n",
    "soup = bs.BeautifulSoup(source.content, features='html.parser', parse_only=bs.SoupStrainer('a'))\n",
    "\n",
    "links = []\n",
    "\n",
    "for link in soup:\n",
    "    links.append(link['href'])\n",
    "\n",
    "links = links[6:33]\n",
    "authors = []\n",
    "\n",
    "df2 = pd.DataFrame()\n",
    "\n",
    "for link in links:\n",
    "    link_source = requests.get(\"http://people.sc.fsu.edu/~jburkardt/datasets/regression/\" + link)\n",
    "    link_soup = bs.BeautifulSoup(link_source.content)\n",
    "    author_name = ''\n",
    "    i = 0\n",
    "    for char in link_soup.get_text():\n",
    "        if char == \"#\":\n",
    "            i += 1\n",
    "            \n",
    "        if i == 5:\n",
    "            author_name += char\n",
    "    \n",
    "    author_name = author_name.replace('#', \"\").replace(',', \"\").lstrip().rstrip()\n",
    "\n",
    "    authors.append(author_name)\n",
    "\n"
   ]
  },
  {
   "cell_type": "code",
   "execution_count": 258,
   "metadata": {},
   "outputs": [
    {
     "name": "stdout",
     "output_type": "stream",
     "text": [
      "['Helmut Spaeth', 'R J Freund and P D Minton', 'D G Kleinbaum and L L Kupper', 'K A Brownlee', 'S Chatterjee and B Price', 'S Chatterjee B Price', 'S C Narula J F Wellington']\n"
     ]
    },
    {
     "data": {
      "text/html": [
       "<div>\n",
       "<style scoped>\n",
       "    .dataframe tbody tr th:only-of-type {\n",
       "        vertical-align: middle;\n",
       "    }\n",
       "\n",
       "    .dataframe tbody tr th {\n",
       "        vertical-align: top;\n",
       "    }\n",
       "\n",
       "    .dataframe thead th {\n",
       "        text-align: right;\n",
       "    }\n",
       "</style>\n",
       "<table border=\"1\" class=\"dataframe\">\n",
       "  <thead>\n",
       "    <tr style=\"text-align: right;\">\n",
       "      <th></th>\n",
       "      <th>Author</th>\n",
       "      <th>Count</th>\n",
       "    </tr>\n",
       "  </thead>\n",
       "  <tbody>\n",
       "    <tr>\n",
       "      <th>0</th>\n",
       "      <td>Helmut Spaeth</td>\n",
       "      <td>16</td>\n",
       "    </tr>\n",
       "    <tr>\n",
       "      <th>5</th>\n",
       "      <td>S Chatterjee B Price</td>\n",
       "      <td>3</td>\n",
       "    </tr>\n",
       "    <tr>\n",
       "      <th>1</th>\n",
       "      <td>R J Freund and P D Minton</td>\n",
       "      <td>2</td>\n",
       "    </tr>\n",
       "    <tr>\n",
       "      <th>2</th>\n",
       "      <td>D G Kleinbaum and L L Kupper</td>\n",
       "      <td>2</td>\n",
       "    </tr>\n",
       "    <tr>\n",
       "      <th>6</th>\n",
       "      <td>S C Narula J F Wellington</td>\n",
       "      <td>2</td>\n",
       "    </tr>\n",
       "    <tr>\n",
       "      <th>3</th>\n",
       "      <td>K A Brownlee</td>\n",
       "      <td>1</td>\n",
       "    </tr>\n",
       "    <tr>\n",
       "      <th>4</th>\n",
       "      <td>S Chatterjee and B Price</td>\n",
       "      <td>1</td>\n",
       "    </tr>\n",
       "  </tbody>\n",
       "</table>\n",
       "</div>"
      ],
      "text/plain": [
       "                         Author  Count\n",
       "0                 Helmut Spaeth     16\n",
       "5          S Chatterjee B Price      3\n",
       "1     R J Freund and P D Minton      2\n",
       "2  D G Kleinbaum and L L Kupper      2\n",
       "6     S C Narula J F Wellington      2\n",
       "3                  K A Brownlee      1\n",
       "4      S Chatterjee and B Price      1"
      ]
     },
     "execution_count": 258,
     "metadata": {},
     "output_type": "execute_result"
    }
   ],
   "source": [
    "author_count = Counter(authors)\n",
    "\n",
    "author_list = []\n",
    "author_list_count = []\n",
    "for key, value in author_count.items():\n",
    "    author_list.append(key)\n",
    "    author_list_count.append(value)\n",
    "    \n",
    "df2['Author'] = author_list\n",
    "df2['Count'] = author_list_count\n",
    "\n",
    "df2.sort_values(by=['Count'],ascending=False)"
   ]
  },
  {
   "cell_type": "code",
   "execution_count": null,
   "metadata": {},
   "outputs": [],
   "source": []
  }
 ],
 "metadata": {
  "kernel_info": {
   "name": "data-x"
  },
  "kernelspec": {
   "display_name": "Python 3",
   "language": "python",
   "name": "python3"
  },
  "language_info": {
   "codemirror_mode": {
    "name": "ipython",
    "version": 3
   },
   "file_extension": ".py",
   "mimetype": "text/x-python",
   "name": "python",
   "nbconvert_exporter": "python",
   "pygments_lexer": "ipython3",
   "version": "3.6.4"
  },
  "nteract": {
   "version": "0.7.1"
  }
 },
 "nbformat": 4,
 "nbformat_minor": 2
}
